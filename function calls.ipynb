{
 "cells": [
  {
   "cell_type": "code",
   "execution_count": 1,
   "metadata": {},
   "outputs": [
    {
     "name": "stdout",
     "output_type": "stream",
     "text": [
      "76032\n"
     ]
    }
   ],
   "source": [
    "def multiplelist(list):\n",
    "    total=1\n",
    "    for i in list:\n",
    "        total =total*i\n",
    "    \n",
    "    print(total)\n",
    "list=[1,2,4,4,66,6,6]\n",
    "multiplelist(list)"
   ]
  },
  {
   "cell_type": "code",
   "execution_count": 7,
   "metadata": {},
   "outputs": [
    {
     "name": "stdout",
     "output_type": "stream",
     "text": [
      "reverse of string : jk\n",
      "kj\n"
     ]
    }
   ],
   "source": [
    "def reversestring(string):\n",
    "    opt=''\n",
    "    for i in range(len(string)-1,-1,-1):\n",
    "        opt+=string[i]\n",
    "    print(opt)\n",
    "string=input(\"reverse of string : \")\n",
    "reversestring(string)"
   ]
  },
  {
   "cell_type": "code",
   "execution_count": 13,
   "metadata": {},
   "outputs": [
    {
     "name": "stdout",
     "output_type": "stream",
     "text": [
      "[2, 4, 6, 8]\n"
     ]
    }
   ],
   "source": [
    "def evenlist(list):\n",
    "    opt=[]\n",
    "    for i in list:\n",
    "        if i%2==0:\n",
    "            opt.append(i)\n",
    "    print(opt)\n",
    "list=[1,2,3,4,5,6,7,8,9] \n",
    "evenlist(list)"
   ]
  },
  {
   "cell_type": "code",
   "execution_count": 8,
   "metadata": {},
   "outputs": [
    {
     "name": "stdout",
     "output_type": "stream",
     "text": [
      "[1, 2, 6, 24, 120, 720, 5040, 40320]\n"
     ]
    }
   ],
   "source": [
    "def factors(num):\n",
    "    factioral=1\n",
    "    for i in range(1,num+1):\n",
    "        factioral=factioral*i\n",
    "    return factioral\n",
    "list=[1,2,3,4,5,6,7,8]\n",
    "oplist=[]\n",
    "for i in list:\n",
    "    oplist.append(factors(i))\n",
    "\n",
    "print(oplist)\n",
    "        "
   ]
  },
  {
   "cell_type": "code",
   "execution_count": 11,
   "metadata": {},
   "outputs": [],
   "source": [
    "def createdit():\n",
    "    dict={}\n",
    "    for i in range(1,21):\n",
    "        dict[i]=i**2\n",
    "    print(dict)\n",
    "createdit()"
   ]
  },
  {
   "cell_type": "code",
   "execution_count": 8,
   "metadata": {},
   "outputs": [
    {
     "name": "stdout",
     "output_type": "stream",
     "text": [
      "[155, 120, 88, 35, 24, 12]\n"
     ]
    }
   ],
   "source": [
    "def removedup(list):\n",
    "    oplist=[]\n",
    "    for i in list:\n",
    "        if i not in oplist:\n",
    "            oplist.append(i)\n",
    "    return oplist\n",
    "list=[12,24,35,24,88,120,155,88,120,155]\n",
    "list=removedup(list)\n",
    "list.reverse()\n",
    "print(list)\n",
    "    "
   ]
  },
  {
   "cell_type": "code",
   "execution_count": 9,
   "metadata": {},
   "outputs": [
    {
     "name": "stdout",
     "output_type": "stream",
     "text": [
      "ece\n"
     ]
    }
   ],
   "source": [
    "print('ece')\n"
   ]
  },
  {
   "cell_type": "code",
   "execution_count": null,
   "metadata": {},
   "outputs": [],
   "source": []
  }
 ],
 "metadata": {
  "kernelspec": {
   "display_name": "Python 3",
   "language": "python",
   "name": "python3"
  },
  "language_info": {
   "codemirror_mode": {
    "name": "ipython",
    "version": 3
   },
   "file_extension": ".py",
   "mimetype": "text/x-python",
   "name": "python",
   "nbconvert_exporter": "python",
   "pygments_lexer": "ipython3",
   "version": "3.8.3"
  }
 },
 "nbformat": 4,
 "nbformat_minor": 2
}
