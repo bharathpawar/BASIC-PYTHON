{
 "cells": [
  {
   "cell_type": "markdown",
   "metadata": {},
   "source": [
    "# PRESENT WORKING DIRESTORY"
   ]
  },
  {
   "cell_type": "code",
   "execution_count": null,
   "metadata": {},
   "outputs": [],
   "source": [
    "pwd"
   ]
  },
  {
   "cell_type": "code",
   "execution_count": 2,
   "metadata": {},
   "outputs": [],
   "source": [
    "import os"
   ]
  },
  {
   "cell_type": "code",
   "execution_count": 3,
   "metadata": {},
   "outputs": [
    {
     "data": {
      "text/plain": [
       "'C:\\\\Users\\\\hp'"
      ]
     },
     "execution_count": 3,
     "metadata": {},
     "output_type": "execute_result"
    }
   ],
   "source": [
    "os.path.abspath(os.path.curdir)"
   ]
  },
  {
   "cell_type": "code",
   "execution_count": 4,
   "metadata": {},
   "outputs": [],
   "source": [
    "#C:\\Users\\hp\\Downloads"
   ]
  },
  {
   "cell_type": "markdown",
   "metadata": {},
   "source": [
    "# Changing Folder Path"
   ]
  },
  {
   "cell_type": "markdown",
   "metadata": {},
   "source": [
    "Change the folder t download"
   ]
  },
  {
   "cell_type": "markdown",
   "metadata": {},
   "source": [
    "# Heading"
   ]
  },
  {
   "cell_type": "code",
   "execution_count": 9,
   "metadata": {},
   "outputs": [
    {
     "data": {
      "text/plain": [
       "'C:\\\\Users\\\\hp'"
      ]
     },
     "execution_count": 9,
     "metadata": {},
     "output_type": "execute_result"
    }
   ],
   "source": [
    "pwd"
   ]
  },
  {
   "cell_type": "code",
   "execution_count": 10,
   "metadata": {},
   "outputs": [
    {
     "data": {
      "text/plain": [
       "'C:\\\\Users\\\\hp'"
      ]
     },
     "execution_count": 10,
     "metadata": {},
     "output_type": "execute_result"
    }
   ],
   "source": [
    "os.path.abspath(os.path.curdir)"
   ]
  },
  {
   "cell_type": "code",
   "execution_count": 11,
   "metadata": {},
   "outputs": [],
   "source": [
    "#C:\\Users\\hp\\Downloads\n",
    "\n",
    "os.chdir(r'C:\\Users\\hp\\Downloads')"
   ]
  },
  {
   "cell_type": "code",
   "execution_count": 12,
   "metadata": {},
   "outputs": [
    {
     "data": {
      "text/plain": [
       "'C:\\\\Users\\\\hp\\\\Downloads'"
      ]
     },
     "execution_count": 12,
     "metadata": {},
     "output_type": "execute_result"
    }
   ],
   "source": [
    "os.path.abspath(os.path.curdir)"
   ]
  },
  {
   "cell_type": "code",
   "execution_count": 13,
   "metadata": {},
   "outputs": [],
   "source": [
    "os.chdir(r'C:\\\\Users\\\\hp')"
   ]
  },
  {
   "cell_type": "code",
   "execution_count": 14,
   "metadata": {},
   "outputs": [
    {
     "data": {
      "text/plain": [
       "'C:\\\\Users\\\\hp'"
      ]
     },
     "execution_count": 14,
     "metadata": {},
     "output_type": "execute_result"
    }
   ],
   "source": [
    "pwd"
   ]
  },
  {
   "cell_type": "code",
   "execution_count": 15,
   "metadata": {},
   "outputs": [
    {
     "data": {
      "text/plain": [
       "'C:\\\\Users\\\\hp'"
      ]
     },
     "execution_count": 15,
     "metadata": {},
     "output_type": "execute_result"
    }
   ],
   "source": [
    "os.getcwd()"
   ]
  },
  {
   "cell_type": "code",
   "execution_count": 16,
   "metadata": {},
   "outputs": [],
   "source": [
    "import os"
   ]
  },
  {
   "cell_type": "code",
   "execution_count": 17,
   "metadata": {
    "collapsed": true
   },
   "outputs": [
    {
     "data": {
      "text/plain": [
       "['.anaconda',\n",
       " '.bash_history',\n",
       " '.conda',\n",
       " '.condarc',\n",
       " '.config',\n",
       " '.git',\n",
       " '.gitconfig',\n",
       " '.ipynb',\n",
       " '.ipynb_checkpoints',\n",
       " '.ipython',\n",
       " '.jupyter',\n",
       " '.matplotlib',\n",
       " '.PyCharm2019.2',\n",
       " '.python_history',\n",
       " '.spyder-py3',\n",
       " '.vscode',\n",
       " '00-Keras-Basics.ipynb',\n",
       " '01-RNN-Example.ipynb',\n",
       " '02-RNN-Exercise.ipynb',\n",
       " '03-RNN-Exercise-Solutions.ipynb',\n",
       " '04-Facebooks-Prophet-Library.ipynb',\n",
       " '10_svm.ipynb',\n",
       " '12_k_fold.ipynb',\n",
       " '13_kmeans_tutorial.ipynb',\n",
       " '14_naive_bayes',\n",
       " '14_naive_bayes_1_titanic_survival_prediction-Copy1.ipynb',\n",
       " '14_naive_bayes_1_titanic_survival_prediction.ipynb',\n",
       " '14_naive_bayes_2_email_spam_filter.ipynb',\n",
       " '1_linear_regression_yprinting.ipynb',\n",
       " '2_linear_regression_multivariate.ipynb',\n",
       " '3D Objects',\n",
       " '4_save_and_load_model_using_pickle.ipynb',\n",
       " '60DaySchedule-Feb2020.xlsx',\n",
       " '60DaySchedule-May-2019.xlsx',\n",
       " '60DHours-Schedule.xlsx',\n",
       " '8am-9am-IST.xlsx',\n",
       " '8_logistic_regression_multiclass.ipynb',\n",
       " '9_decision_tree_exercise.ipynb',\n",
       " 'amazon customer reviews.ipynb',\n",
       " 'amazonproject',\n",
       " 'Anaconda',\n",
       " 'Ananconda',\n",
       " 'AppData',\n",
       " 'Application Data',\n",
       " 'Apr2020_BasicPython.ipynb',\n",
       " 'Apr2020_DataCleaning_Part1.ipynb',\n",
       " 'AprBasicPython.ipynb',\n",
       " 'AprMar20220-PDFtoCSV.ipynb',\n",
       " 'AprMay2020-Web.ipynb',\n",
       " 'AprMay20202_NaiveBayes.ipynb',\n",
       " 'AprMay2020_DataCleaning.ipynb',\n",
       " 'aravind.xlsx',\n",
       " 'Ashok-Trading',\n",
       " 'awesome-test',\n",
       " 'B.ipynb',\n",
       " 'BasicPython',\n",
       " 'BasicPython-08-July-2019.ipynb',\n",
       " 'BASICPYTHON-APRSPL',\n",
       " 'BasicPython-May2020.ipynb',\n",
       " 'basicpython-oct30.ipynb',\n",
       " 'BasicPython.ipynb',\n",
       " 'BasicPython12.ipynb',\n",
       " 'BasicsofPython_Dec20.ipynb',\n",
       " 'BasicsOfPython_Jan2020.ipynb',\n",
       " 'Bike',\n",
       " 'biketrain_data_preparation_rev1.ipynb',\n",
       " 'biketrain_data_preparation_rev2.ipynb',\n",
       " 'biketrain_data_preparation_rev3.ipynb',\n",
       " 'biketrain_xgboost_localmode_rev3.ipynb',\n",
       " 'bike_all.csv',\n",
       " 'bike_test.csv',\n",
       " 'bike_train.csv',\n",
       " 'bike_train_columns.txt',\n",
       " 'bike_validation.csv',\n",
       " 'Bokey.ipynb',\n",
       " 'carprices.csv',\n",
       " 'car_crashes.csv',\n",
       " 'Chicago_Crimes_2001_to_2004.csv',\n",
       " 'Chicago_Crimes_2005_to_2007.csv',\n",
       " 'Chicago_Crimes_2008_to_2011.csv',\n",
       " 'Chicago_Crimes_2012_to_2017.csv',\n",
       " 'Chinook_Sqlite.sqlite',\n",
       " 'Chinook_Sqlite.sqlite3',\n",
       " 'clusterprogram_databricks-Copy1.ipynb',\n",
       " 'clusterprogram_databricks.ipynb',\n",
       " 'Contacts',\n",
       " 'Cookies',\n",
       " 'ct.ipynb',\n",
       " 'Data Cleaning-Apr-May-2020.ipynb',\n",
       " 'Data Cleaning2_Dec2019.ipynb',\n",
       " 'DATA VISUALIZATION USING MATPLOT.ipynb',\n",
       " 'DATA-PREPROCESSING-FEATURESSELCTION',\n",
       " 'DataClaining_Join_Jan2020_Part4.ipynb',\n",
       " 'DataCLeanin-Feb2020.ipynb',\n",
       " 'DataCleaning-Pandas-Dec-Jan2020.ipynb',\n",
       " 'DataCLeaning.ipynb',\n",
       " 'DataCLeaningPart4-NovDec2019.ipynb',\n",
       " 'DataCleaning_extra.ipynb',\n",
       " 'DataCleaning_Pandas _Part2_DecJan2020.ipynb',\n",
       " 'DataCleaning_pandas_Part1_Nov2019.ipynb',\n",
       " 'DataCleaning_part3.ipynb',\n",
       " 'DataCleaning_Part3_Groupy_DecJan2020.ipynb',\n",
       " 'DATACLEANKING',\n",
       " 'DataPreprocessing-Full-Glaata.ipynb',\n",
       " 'DataPreprocessing-Full-Glaata_Feb2020.ipynb',\n",
       " 'DataPreprocessing1.ipynb',\n",
       " 'DataPreprocessing_Correct-Copy1.ipynb',\n",
       " 'DataPreprocessing_Correct.html',\n",
       " 'DataPreprocessing_Correct.ipynb',\n",
       " 'DataPreprocessing_MarApr2020.ipynb',\n",
       " 'DataPreprocessing_NovDec2019.ipynb',\n",
       " 'DataPreprocessing_NovDec2019_Correct.ipynb',\n",
       " 'DataScience',\n",
       " 'DataScience-September',\n",
       " 'DataScience_NareshIT-Dec2019',\n",
       " 'Dataset_spine.csv',\n",
       " 'DataVisualization-MatplotLib-NovDec2019.ipynb',\n",
       " 'DataVisualizationNovDec2019_Seaborn.ipynb',\n",
       " 'DataVisualization_Seaborn.ipynb',\n",
       " 'DataVIsualization_Seaborne_DecJan2020.ipynb',\n",
       " 'dec20',\n",
       " 'Dec2020_Bokey.ipynb',\n",
       " 'Dec2020_RandomForest.ipynb',\n",
       " 'decdejango',\n",
       " 'Decision-Tree',\n",
       " 'DecisionTree.txt',\n",
       " 'DecisonTree',\n",
       " 'DecJan2020_DataPreprocessing.ipynb',\n",
       " 'DecJan2020_NLP_SentimentAnalyzer.ipynb',\n",
       " 'DEEPLEARNING',\n",
       " 'Desktop',\n",
       " 'Diabeticpreprocessing.csv',\n",
       " 'DLLs',\n",
       " 'Doc',\n",
       " 'Documents',\n",
       " 'DogFood_DecisionTree_RandomForest_Naresh.ipynb',\n",
       " 'dog_food.csv',\n",
       " 'Downloads',\n",
       " 'EDA - Python.ipynb',\n",
       " 'eda with plotly.ipynb',\n",
       " 'EDA-ML',\n",
       " 'EDA-ML-Copy1.ipynb',\n",
       " 'EDA-ML.ipynb',\n",
       " 'employees.csv',\n",
       " 'env',\n",
       " 'exercise.md',\n",
       " 'FACEBOOK',\n",
       " 'Favorites',\n",
       " 'Feb2020Glaata_ModelCreation.ipynb',\n",
       " 'file1.csv',\n",
       " 'flask',\n",
       " 'flower-country.csv',\n",
       " 'Folder (2).ipynb',\n",
       " 'Folder-And-Exception-Copy1.ipynb',\n",
       " 'Folder-And-Exception.ipynb',\n",
       " 'Folder.ipynb',\n",
       " 'Folderpath.pdf',\n",
       " 'Forecasting-Models-Data (1).txt',\n",
       " 'Forecasting.ipynb',\n",
       " 'fortune1000.csv',\n",
       " 'FULL-PYTHON-BASIC.ipynb',\n",
       " 'Glaaata_feb2020_RandomForest.ipynb',\n",
       " 'Glaata-Feb20-BasicPthon.ipynb',\n",
       " 'Glaata-Feb2020-Maltplotlib.ipynb',\n",
       " 'GlaataFeb2020_DataCleaning_part2.ipynb',\n",
       " 'GlaataFeb2020_Plotly.ipynb',\n",
       " 'Glaata_03_BasicPython.ipynb',\n",
       " 'Glaata_Feb2020_DataCLeaning_Part3.ipynb',\n",
       " 'Glaata_Feb2020_PDF_CSV.ipynb',\n",
       " 'Glaata_feb2020_Plotly.ipynb',\n",
       " 'Glaata_Feb2020_PythonBasics.ipynb',\n",
       " 'Glaata_Feb2020_WebtoCSV.ipynb',\n",
       " 'gl_sqlitetodataframe.ipynb',\n",
       " 'gradient_descent.ipynb',\n",
       " 'HCL',\n",
       " 'HCL ML Challenge Dataset',\n",
       " 'height3.csv',\n",
       " 'homeprices.csv',\n",
       " 'HospitalityEmployees.csv',\n",
       " 'hr.csv',\n",
       " 'IDBI.csv',\n",
       " 'IDBII.csv',\n",
       " 'include',\n",
       " 'income.csv',\n",
       " 'input.pdf',\n",
       " 'INSTALL',\n",
       " 'insurance_data.csv',\n",
       " 'IntelGraphicsProfiles',\n",
       " 'Iris.csv',\n",
       " 'iris.data',\n",
       " 'iris.html',\n",
       " 'K-Fold.ipynb',\n",
       " 'K-Means',\n",
       " 'k-Nearest Neighbor _IRIS(KNN) (3).ipynb',\n",
       " 'kite .ipynb',\n",
       " 'knime-workspace',\n",
       " 'KNN.ipynb',\n",
       " 'KNN_04Mar.ipynb',\n",
       " 'Lib',\n",
       " 'libs',\n",
       " 'LICENSE.txt',\n",
       " 'LinearRegression',\n",
       " 'LinearRegression-MultiVariate',\n",
       " 'LinearRegression.ipynb',\n",
       " 'LinearRegression_IRIS.ipynb',\n",
       " 'lines.html',\n",
       " 'Links',\n",
       " 'List.ipynb',\n",
       " 'Local Settings',\n",
       " 'Logistic-Regression.ipynb',\n",
       " 'LogisticRegression',\n",
       " 'mar2020',\n",
       " 'Mar2020_BasicPython.ipynb',\n",
       " 'Mar2020_DataCleaning-Part1_NBA.ipynb',\n",
       " 'Mar2020_DataCLeaningPart3.ipynb',\n",
       " 'Mar2020_DataCleaningPart4.ipynb',\n",
       " 'Mar2020_DataCleaning_Part2.ipynb',\n",
       " 'Mar2020_SQLtoDF-Copy1.ipynb',\n",
       " 'Mar2020_SQLtoDF.ipynb',\n",
       " 'MarApr-2020-XGBoost.ipynb',\n",
       " 'MArApr2020_NLP.ipynb',\n",
       " 'MarApr2020_numpy.ipynb',\n",
       " 'MarApr2020_Seaborn.ipynb',\n",
       " 'MarApr2020_TimeSeriesAnanlysis.ipynb',\n",
       " 'Matplotlib_DecJan20202.ipynb',\n",
       " 'May2020_DataCleaning.ipynb',\n",
       " 'Melting.ipynb',\n",
       " 'Microsoft',\n",
       " 'MicrosoftEdgeBackups',\n",
       " 'Miles_Traveled.csv',\n",
       " 'model_joblib',\n",
       " 'model_joblib1',\n",
       " 'model_pickle',\n",
       " 'model_pickle1',\n",
       " 'Music',\n",
       " 'My Documents',\n",
       " 'MyBasicPython_Dec2019.ipynb',\n",
       " 'Mypythonfirstfiles.ipynb',\n",
       " 'my_rnn_model.h5',\n",
       " 'nba.csv',\n",
       " 'nba_dup.csv',\n",
       " 'nditer.ipynb',\n",
       " 'NetHood',\n",
       " 'NEWS.txt',\n",
       " 'NOV-LIST&TUPLE.ipynb',\n",
       " 'NovDec2020_NLTK.ipynb',\n",
       " 'NTUSER.DAT',\n",
       " 'ntuser.dat.LOG1',\n",
       " 'ntuser.dat.LOG2',\n",
       " 'NTUSER.DAT{9332df5f-7300-11ea-b478-bc44bc286396}.TM.blf',\n",
       " 'NTUSER.DAT{9332df5f-7300-11ea-b478-bc44bc286396}.TMContainer00000000000000000001.regtrans-ms',\n",
       " 'NTUSER.DAT{9332df5f-7300-11ea-b478-bc44bc286396}.TMContainer00000000000000000002.regtrans-ms',\n",
       " 'ntuser.ini',\n",
       " 'Numpy.ipynb',\n",
       " 'Numpy1.ipynb',\n",
       " 'Numpy10.ipynb',\n",
       " 'Numpy_Dec2019.ipynb',\n",
       " 'numpy_tutorail_2.py',\n",
       " 'numpy_tutorial.py',\n",
       " 'OneDrive',\n",
       " 'one_hot_encoding.ipynb',\n",
       " 'output.csv',\n",
       " 'output.xlsx',\n",
       " 'output12.xlsx',\n",
       " 'output123.xlsx',\n",
       " 'output_21nov.csv',\n",
       " 'output_21nov.html',\n",
       " 'output_21nov.xlsx',\n",
       " 'Pandas.ipynb',\n",
       " 'Pandas_read_csv.ipynb',\n",
       " 'Pdftocsv.ipynb',\n",
       " 'PDFtoCSV1.ipynb',\n",
       " 'Pictures',\n",
       " 'pima-indians-diabetes.data.csv',\n",
       " 'Ploltly.ipynb',\n",
       " 'plotly.ipynb',\n",
       " 'PrincipleCOmponentAnanlysis.ipynb',\n",
       " 'PrintHood',\n",
       " 'project',\n",
       " 'Project 2 - CiFAR-10 Images Classification Using CNNs.ipynb',\n",
       " 'Project 3 - Predict Crime Rate in Chicago_Weight.ipynb',\n",
       " 'Project 3 - Predict Crime-Copy1.ipynb',\n",
       " 'Project 3 - Predict Crime.ipynb',\n",
       " 'Project-DataVisualization',\n",
       " 'PROJECT-ML',\n",
       " 'projects',\n",
       " 'Project_Coronavirus.ipynb',\n",
       " 'Prophet1-Intro-to-Facebook-Prophet.ipynb',\n",
       " 'Prophet2-Prophet-Forecast-Evaluations.ipynb',\n",
       " 'Prophet3.ipynb',\n",
       " 'Prophet4.ipynb',\n",
       " 'PyAudio-0.2.11-cp39-cp39-win_amd64.whl',\n",
       " 'Pyspark-DecisionTree-DogFood.ipynb',\n",
       " 'python-3.8.exe',\n",
       " 'Python-Basic-20Oct-Copy1.ipynb',\n",
       " 'Python-Basic-20Oct.ipynb',\n",
       " 'PYTHON-BASIC.ipynb',\n",
       " 'Python-Numpy.ipynb',\n",
       " 'python.exe',\n",
       " 'python3.dll',\n",
       " 'python38.dll',\n",
       " 'Pythonbasic19Nov.ipynb',\n",
       " 'pythonw.exe',\n",
       " 'RandomForestCLassifier-Copy1.ipynb',\n",
       " 'RandomForestCLassifier.ipynb',\n",
       " 'random_forest_exercise.ipynb',\n",
       " 'README.txt',\n",
       " 'Recent',\n",
       " 'Regex',\n",
       " 'RegEx.ipynb',\n",
       " 'Regex1.ipynb',\n",
       " 'Regex2.ipynb',\n",
       " 'Regression_Dec2019.ipynb',\n",
       " 'RegularExpression.ipynb',\n",
       " 'Restaurant - Customers.csv',\n",
       " 'Restaurant - Foods.csv',\n",
       " 'Restaurant - Week 1 Sales.csv',\n",
       " 'Restaurant - Week 1 Satisfaction.csv',\n",
       " 'Restaurant - Week 2 Sales.csv',\n",
       " 'Results.csv',\n",
       " 'revenue.csv',\n",
       " 'Reviews Project1.ipynb',\n",
       " 'Sales_Prophet.csv',\n",
       " 'Sample Dataset',\n",
       " 'Sample.xls.xlsx',\n",
       " 'sample_submission.csv',\n",
       " 'SaveAndLoadTrainedModel.ipynb',\n",
       " 'Saved Games',\n",
       " 'SBI',\n",
       " 'SBI.csv',\n",
       " 'SCMS_Delivery_History_Dataset.csv',\n",
       " 'Scripts',\n",
       " 'seaborn-data',\n",
       " 'Searches',\n",
       " 'SendTo',\n",
       " 'Sentiment-Analyzer.ipynb',\n",
       " 'Share Price Analysis by code.ipynb',\n",
       " 'sig1.csv',\n",
       " 'solutions_model.h5',\n",
       " 'spam.csv',\n",
       " 'sqldiff.exe',\n",
       " 'sqlite3.exe',\n",
       " 'sqlite3_analyzer.exe',\n",
       " 'SQLITEtoCSV_Dec2019.ipynb',\n",
       " 'SqlLiteToDataframe-Nov.ipynb',\n",
       " 'sqltodf.ipynb',\n",
       " 'Start Menu',\n",
       " 'Supply Chain Shipment Price Data Analysis.ipynb',\n",
       " 'Supplychain-Project',\n",
       " 'SupportVector.ipynb',\n",
       " 'tcl',\n",
       " 'Templates',\n",
       " 'Tensorflow',\n",
       " 'test.csv',\n",
       " 'text',\n",
       " 'TEXT-DELIMIETRER',\n",
       " 'TextAnanlysis.ipynb',\n",
       " 'TimeSeriesAnanlysis-Copy1.ipynb',\n",
       " 'TimeSeriesAnanlysis.ipynb',\n",
       " 'TimeSeriesDataVisualization.ipynb',\n",
       " 'tips.csv',\n",
       " 'titanic.csv',\n",
       " 'toolbar.html',\n",
       " 'Tools',\n",
       " 'train.csv',\n",
       " 'TrainTestandSplit',\n",
       " 'Untitled Folder',\n",
       " 'Untitled Folder 1',\n",
       " 'Untitled Folder 2',\n",
       " 'Untitled Folder 4',\n",
       " 'Untitled.ipynb',\n",
       " 'Untitled1.ipynb',\n",
       " 'Untitled10.ipynb',\n",
       " 'Untitled100.ipynb',\n",
       " 'Untitled101.ipynb',\n",
       " 'Untitled102.ipynb',\n",
       " 'Untitled103.ipynb',\n",
       " 'Untitled104.ipynb',\n",
       " 'Untitled105.ipynb',\n",
       " 'Untitled106.ipynb',\n",
       " 'Untitled107.ipynb',\n",
       " 'Untitled108.ipynb',\n",
       " 'Untitled109.ipynb',\n",
       " 'Untitled11.ipynb',\n",
       " 'Untitled110.ipynb',\n",
       " 'Untitled111.ipynb',\n",
       " 'Untitled112.ipynb',\n",
       " 'Untitled113.ipynb',\n",
       " 'Untitled114.ipynb',\n",
       " 'Untitled115.ipynb',\n",
       " 'Untitled116.ipynb',\n",
       " 'Untitled117.ipynb',\n",
       " 'Untitled118.ipynb',\n",
       " 'Untitled119.ipynb',\n",
       " 'Untitled12.ipynb',\n",
       " 'Untitled120.ipynb',\n",
       " 'Untitled121.ipynb',\n",
       " 'Untitled122.ipynb',\n",
       " 'Untitled123.ipynb',\n",
       " 'Untitled124.ipynb',\n",
       " 'Untitled125.ipynb',\n",
       " 'Untitled126.ipynb',\n",
       " 'Untitled127.ipynb',\n",
       " 'Untitled128.ipynb',\n",
       " 'Untitled129.ipynb',\n",
       " 'Untitled13.ipynb',\n",
       " 'Untitled130.ipynb',\n",
       " 'Untitled131.ipynb',\n",
       " 'Untitled132.ipynb',\n",
       " 'Untitled133.ipynb',\n",
       " 'Untitled134.ipynb',\n",
       " 'Untitled135.ipynb',\n",
       " 'Untitled136.ipynb',\n",
       " 'Untitled137.ipynb',\n",
       " 'Untitled138.ipynb',\n",
       " 'Untitled139.ipynb',\n",
       " 'Untitled14.ipynb',\n",
       " 'Untitled140.ipynb',\n",
       " 'Untitled141.ipynb',\n",
       " 'Untitled142.ipynb',\n",
       " 'Untitled143.ipynb',\n",
       " 'Untitled144.ipynb',\n",
       " 'Untitled145.ipynb',\n",
       " 'Untitled146.ipynb',\n",
       " 'Untitled147.ipynb',\n",
       " 'Untitled148.ipynb',\n",
       " 'Untitled149.ipynb',\n",
       " 'Untitled15.ipynb',\n",
       " 'Untitled150.ipynb',\n",
       " 'Untitled151.ipynb',\n",
       " 'Untitled152.ipynb',\n",
       " 'Untitled153.ipynb',\n",
       " 'Untitled154.ipynb',\n",
       " 'Untitled155.ipynb',\n",
       " 'Untitled156.ipynb',\n",
       " 'Untitled157.ipynb',\n",
       " 'Untitled158.ipynb',\n",
       " 'Untitled159.ipynb',\n",
       " 'Untitled16.ipynb',\n",
       " 'Untitled160.ipynb',\n",
       " 'Untitled161.ipynb',\n",
       " 'Untitled162.ipynb',\n",
       " 'Untitled163.ipynb',\n",
       " 'Untitled164.ipynb',\n",
       " 'Untitled165.ipynb',\n",
       " 'Untitled166.ipynb',\n",
       " 'Untitled167.ipynb',\n",
       " 'Untitled168.ipynb',\n",
       " 'Untitled169.ipynb',\n",
       " 'Untitled17.ipynb',\n",
       " 'Untitled170.ipynb',\n",
       " 'Untitled171.ipynb',\n",
       " 'Untitled172.ipynb',\n",
       " 'Untitled173.ipynb',\n",
       " 'Untitled174.ipynb',\n",
       " 'Untitled175.ipynb',\n",
       " 'Untitled176.ipynb',\n",
       " 'Untitled177.ipynb',\n",
       " 'Untitled178.ipynb',\n",
       " 'Untitled179-Copy1.ipynb',\n",
       " 'Untitled179.ipynb',\n",
       " 'Untitled18.ipynb',\n",
       " 'Untitled180.ipynb',\n",
       " 'Untitled19.ipynb',\n",
       " 'Untitled2.ipynb',\n",
       " 'Untitled20.ipynb',\n",
       " 'Untitled21.ipynb',\n",
       " 'Untitled22.ipynb',\n",
       " 'Untitled23.ipynb',\n",
       " 'Untitled24.ipynb',\n",
       " 'Untitled25.ipynb',\n",
       " 'Untitled26.ipynb',\n",
       " 'Untitled27.ipynb',\n",
       " 'Untitled28.ipynb',\n",
       " 'Untitled29.ipynb',\n",
       " 'Untitled3.ipynb',\n",
       " 'Untitled30.ipynb',\n",
       " 'Untitled31.ipynb',\n",
       " 'Untitled32.ipynb',\n",
       " 'Untitled33.ipynb',\n",
       " 'Untitled34.ipynb',\n",
       " 'Untitled35.ipynb',\n",
       " 'Untitled36.ipynb',\n",
       " 'Untitled37.ipynb',\n",
       " 'Untitled38.ipynb',\n",
       " 'Untitled39.ipynb',\n",
       " 'Untitled4.ipynb',\n",
       " 'Untitled40.ipynb',\n",
       " 'Untitled41.ipynb',\n",
       " 'Untitled42.ipynb',\n",
       " 'Untitled43.ipynb',\n",
       " 'Untitled44.ipynb',\n",
       " 'Untitled45.ipynb',\n",
       " 'Untitled46.ipynb',\n",
       " 'Untitled47.ipynb',\n",
       " 'Untitled48.ipynb',\n",
       " 'Untitled49-Copy1.ipynb',\n",
       " 'Untitled49.ipynb',\n",
       " 'Untitled5.ipynb',\n",
       " 'Untitled50.ipynb',\n",
       " 'Untitled51.ipynb',\n",
       " 'Untitled52.ipynb',\n",
       " 'Untitled53.ipynb',\n",
       " 'Untitled54.ipynb',\n",
       " 'Untitled55.ipynb',\n",
       " 'Untitled56.ipynb',\n",
       " 'Untitled57.ipynb',\n",
       " 'Untitled58-Copy1.ipynb',\n",
       " 'Untitled58.ipynb',\n",
       " 'Untitled59.ipynb',\n",
       " 'Untitled6.ipynb',\n",
       " 'Untitled60.ipynb',\n",
       " 'Untitled61.ipynb',\n",
       " 'Untitled62.ipynb',\n",
       " 'Untitled63.ipynb',\n",
       " 'Untitled64.ipynb',\n",
       " 'Untitled65.ipynb',\n",
       " 'Untitled66.ipynb',\n",
       " 'Untitled67.ipynb',\n",
       " 'Untitled68.ipynb',\n",
       " 'Untitled69.ipynb',\n",
       " 'Untitled7.ipynb',\n",
       " 'Untitled70.ipynb',\n",
       " 'Untitled71.ipynb',\n",
       " 'Untitled72.ipynb',\n",
       " 'Untitled73.ipynb',\n",
       " 'Untitled74.ipynb',\n",
       " 'Untitled75.ipynb',\n",
       " 'Untitled76.ipynb',\n",
       " 'Untitled77.ipynb',\n",
       " 'Untitled78.ipynb',\n",
       " 'Untitled79.ipynb',\n",
       " 'Untitled8.ipynb',\n",
       " 'Untitled80.ipynb',\n",
       " 'Untitled81.ipynb',\n",
       " 'Untitled82.ipynb',\n",
       " 'Untitled83.ipynb',\n",
       " 'Untitled84.ipynb',\n",
       " 'Untitled85.ipynb',\n",
       " 'Untitled86.ipynb',\n",
       " 'Untitled87.ipynb',\n",
       " 'Untitled88.ipynb',\n",
       " 'Untitled89.ipynb',\n",
       " 'Untitled9.ipynb',\n",
       " 'Untitled90.ipynb',\n",
       " 'Untitled91.ipynb',\n",
       " 'Untitled92.ipynb',\n",
       " 'Untitled93.ipynb',\n",
       " 'Untitled94.ipynb',\n",
       " 'Untitled95.ipynb',\n",
       " 'Untitled96.ipynb',\n",
       " 'Untitled97.ipynb',\n",
       " 'Untitled98.ipynb',\n",
       " 'Untitled99.ipynb',\n",
       " 'vcruntime140.dll',\n",
       " 'venv',\n",
       " 'Videos',\n",
       " 'WebScrapping-Copy1.ipynb',\n",
       " 'WebScrapping-Copy2.ipynb',\n",
       " 'webscrapping-Realtime.py',\n",
       " 'WebScrapping.ipynb',\n",
       " 'Webscrapping1.ipynb',\n",
       " 'weights.txt',\n",
       " 'XGBoost.ipynb']"
      ]
     },
     "execution_count": 17,
     "metadata": {},
     "output_type": "execute_result"
    }
   ],
   "source": [
    "os.listdir('.')"
   ]
  },
  {
   "cell_type": "markdown",
   "metadata": {},
   "source": [
    "# SHORT CUT KEYS"
   ]
  },
  {
   "cell_type": "raw",
   "metadata": {},
   "source": [
    "# UNDO / CTRL Z"
   ]
  },
  {
   "cell_type": "markdown",
   "metadata": {},
   "source": [
    "# CASE SENSITIVE"
   ]
  },
  {
   "cell_type": "code",
   "execution_count": 20,
   "metadata": {},
   "outputs": [],
   "source": [
    "India = 100"
   ]
  },
  {
   "cell_type": "code",
   "execution_count": 22,
   "metadata": {},
   "outputs": [],
   "source": [
    "india = 1000"
   ]
  },
  {
   "cell_type": "markdown",
   "metadata": {},
   "source": [
    "# DATA TYPES"
   ]
  },
  {
   "cell_type": "raw",
   "metadata": {},
   "source": [
    "INTEGER\n",
    "FLOAT\n",
    "STRING\n",
    "BOOLEAN\n",
    "LIST\n",
    "TUPLE\n",
    "DICTIONARIES"
   ]
  },
  {
   "cell_type": "markdown",
   "metadata": {},
   "source": [
    "# INTEGER"
   ]
  },
  {
   "cell_type": "code",
   "execution_count": 24,
   "metadata": {},
   "outputs": [],
   "source": [
    "a = 100"
   ]
  },
  {
   "cell_type": "code",
   "execution_count": 25,
   "metadata": {},
   "outputs": [
    {
     "data": {
      "text/plain": [
       "int"
      ]
     },
     "execution_count": 25,
     "metadata": {},
     "output_type": "execute_result"
    }
   ],
   "source": [
    "type(a)"
   ]
  },
  {
   "cell_type": "code",
   "execution_count": 26,
   "metadata": {},
   "outputs": [],
   "source": [
    "b = 100.2"
   ]
  },
  {
   "cell_type": "code",
   "execution_count": 27,
   "metadata": {},
   "outputs": [
    {
     "data": {
      "text/plain": [
       "float"
      ]
     },
     "execution_count": 27,
     "metadata": {},
     "output_type": "execute_result"
    }
   ],
   "source": [
    "type(b)"
   ]
  },
  {
   "cell_type": "code",
   "execution_count": 28,
   "metadata": {},
   "outputs": [],
   "source": [
    "c = '100'"
   ]
  },
  {
   "cell_type": "code",
   "execution_count": 29,
   "metadata": {},
   "outputs": [
    {
     "data": {
      "text/plain": [
       "str"
      ]
     },
     "execution_count": 29,
     "metadata": {},
     "output_type": "execute_result"
    }
   ],
   "source": [
    "type(c)"
   ]
  },
  {
   "cell_type": "code",
   "execution_count": 30,
   "metadata": {},
   "outputs": [],
   "source": [
    "d = True"
   ]
  },
  {
   "cell_type": "code",
   "execution_count": 31,
   "metadata": {},
   "outputs": [
    {
     "data": {
      "text/plain": [
       "bool"
      ]
     },
     "execution_count": 31,
     "metadata": {},
     "output_type": "execute_result"
    }
   ],
   "source": [
    "type(d)"
   ]
  },
  {
   "cell_type": "markdown",
   "metadata": {},
   "source": [
    "# Change the DATA type"
   ]
  },
  {
   "cell_type": "code",
   "execution_count": 34,
   "metadata": {},
   "outputs": [],
   "source": [
    "a = 100"
   ]
  },
  {
   "cell_type": "code",
   "execution_count": 35,
   "metadata": {},
   "outputs": [
    {
     "data": {
      "text/plain": [
       "int"
      ]
     },
     "execution_count": 35,
     "metadata": {},
     "output_type": "execute_result"
    }
   ],
   "source": [
    "type(a)"
   ]
  },
  {
   "cell_type": "code",
   "execution_count": 36,
   "metadata": {},
   "outputs": [],
   "source": [
    "a = float(a)"
   ]
  },
  {
   "cell_type": "code",
   "execution_count": 37,
   "metadata": {},
   "outputs": [
    {
     "data": {
      "text/plain": [
       "float"
      ]
     },
     "execution_count": 37,
     "metadata": {},
     "output_type": "execute_result"
    }
   ],
   "source": [
    "type(a)"
   ]
  },
  {
   "cell_type": "code",
   "execution_count": 38,
   "metadata": {},
   "outputs": [],
   "source": [
    "b = 200.3"
   ]
  },
  {
   "cell_type": "code",
   "execution_count": 39,
   "metadata": {},
   "outputs": [],
   "source": [
    "b = int(b)"
   ]
  },
  {
   "cell_type": "code",
   "execution_count": 40,
   "metadata": {},
   "outputs": [
    {
     "data": {
      "text/plain": [
       "int"
      ]
     },
     "execution_count": 40,
     "metadata": {},
     "output_type": "execute_result"
    }
   ],
   "source": [
    "type(b)"
   ]
  },
  {
   "cell_type": "code",
   "execution_count": 41,
   "metadata": {},
   "outputs": [],
   "source": [
    "d = 20"
   ]
  },
  {
   "cell_type": "code",
   "execution_count": 43,
   "metadata": {},
   "outputs": [],
   "source": [
    "d = str(20)"
   ]
  },
  {
   "cell_type": "code",
   "execution_count": 44,
   "metadata": {},
   "outputs": [
    {
     "data": {
      "text/plain": [
       "str"
      ]
     },
     "execution_count": 44,
     "metadata": {},
     "output_type": "execute_result"
    }
   ],
   "source": [
    "type(d)"
   ]
  },
  {
   "cell_type": "code",
   "execution_count": 45,
   "metadata": {},
   "outputs": [],
   "source": [
    "e = '100'"
   ]
  },
  {
   "cell_type": "code",
   "execution_count": 46,
   "metadata": {},
   "outputs": [],
   "source": [
    "e = int(100)"
   ]
  },
  {
   "cell_type": "code",
   "execution_count": 47,
   "metadata": {},
   "outputs": [
    {
     "data": {
      "text/plain": [
       "int"
      ]
     },
     "execution_count": 47,
     "metadata": {},
     "output_type": "execute_result"
    }
   ],
   "source": [
    "type(e)"
   ]
  },
  {
   "cell_type": "code",
   "execution_count": null,
   "metadata": {},
   "outputs": [],
   "source": [
    "f = 'India'"
   ]
  },
  {
   "cell_type": "code",
   "execution_count": 48,
   "metadata": {
    "collapsed": true
   },
   "outputs": [
    {
     "ename": "NameError",
     "evalue": "name 'f' is not defined",
     "output_type": "error",
     "traceback": [
      "\u001b[1;31m---------------------------------------------------------------------------\u001b[0m",
      "\u001b[1;31mNameError\u001b[0m                                 Traceback (most recent call last)",
      "\u001b[1;32m<ipython-input-48-ccc67ff4fc0a>\u001b[0m in \u001b[0;36m<module>\u001b[1;34m\u001b[0m\n\u001b[1;32m----> 1\u001b[1;33m \u001b[0mf\u001b[0m \u001b[1;33m=\u001b[0m \u001b[0mint\u001b[0m\u001b[1;33m(\u001b[0m\u001b[0mf\u001b[0m\u001b[1;33m)\u001b[0m\u001b[1;33m\u001b[0m\u001b[1;33m\u001b[0m\u001b[0m\n\u001b[0m",
      "\u001b[1;31mNameError\u001b[0m: name 'f' is not defined"
     ]
    }
   ],
   "source": [
    "f = int(f)\n",
    "Cannot poosibel"
   ]
  },
  {
   "cell_type": "code",
   "execution_count": null,
   "metadata": {},
   "outputs": [],
   "source": [
    "a = 1"
   ]
  },
  {
   "cell_type": "code",
   "execution_count": 49,
   "metadata": {},
   "outputs": [],
   "source": [
    "a = bool(a)"
   ]
  },
  {
   "cell_type": "code",
   "execution_count": 50,
   "metadata": {},
   "outputs": [
    {
     "data": {
      "text/plain": [
       "True"
      ]
     },
     "execution_count": 50,
     "metadata": {},
     "output_type": "execute_result"
    }
   ],
   "source": [
    "a"
   ]
  },
  {
   "cell_type": "code",
   "execution_count": 51,
   "metadata": {},
   "outputs": [
    {
     "data": {
      "text/plain": [
       "bool"
      ]
     },
     "execution_count": 51,
     "metadata": {},
     "output_type": "execute_result"
    }
   ],
   "source": [
    "type(a)"
   ]
  },
  {
   "cell_type": "code",
   "execution_count": 52,
   "metadata": {},
   "outputs": [],
   "source": [
    "b = 0"
   ]
  },
  {
   "cell_type": "code",
   "execution_count": 53,
   "metadata": {},
   "outputs": [
    {
     "data": {
      "text/plain": [
       "int"
      ]
     },
     "execution_count": 53,
     "metadata": {},
     "output_type": "execute_result"
    }
   ],
   "source": [
    "type(b)"
   ]
  },
  {
   "cell_type": "code",
   "execution_count": 54,
   "metadata": {},
   "outputs": [],
   "source": [
    "b = bool(b)"
   ]
  },
  {
   "cell_type": "code",
   "execution_count": 55,
   "metadata": {},
   "outputs": [
    {
     "data": {
      "text/plain": [
       "False"
      ]
     },
     "execution_count": 55,
     "metadata": {},
     "output_type": "execute_result"
    }
   ],
   "source": [
    "b"
   ]
  },
  {
   "cell_type": "markdown",
   "metadata": {},
   "source": [
    "# LIST"
   ]
  },
  {
   "cell_type": "code",
   "execution_count": 56,
   "metadata": {},
   "outputs": [],
   "source": [
    "#A list is mutable\n",
    "\n",
    "List1 = ['apple','orange','cherry','grapes','pineapple']"
   ]
  },
  {
   "cell_type": "code",
   "execution_count": 57,
   "metadata": {},
   "outputs": [
    {
     "data": {
      "text/plain": [
       "'orange'"
      ]
     },
     "execution_count": 57,
     "metadata": {},
     "output_type": "execute_result"
    }
   ],
   "source": [
    "List1[1]"
   ]
  },
  {
   "cell_type": "code",
   "execution_count": 58,
   "metadata": {},
   "outputs": [],
   "source": [
    "List1[1] = 'Green Orange'"
   ]
  },
  {
   "cell_type": "raw",
   "metadata": {},
   "source": [
    "Excerices"
   ]
  },
  {
   "cell_type": "code",
   "execution_count": 59,
   "metadata": {},
   "outputs": [
    {
     "data": {
      "text/plain": [
       "['apple', 'Green Orange', 'cherry', 'grapes', 'pineapple']"
      ]
     },
     "execution_count": 59,
     "metadata": {},
     "output_type": "execute_result"
    }
   ],
   "source": [
    "List1"
   ]
  },
  {
   "cell_type": "code",
   "execution_count": 61,
   "metadata": {},
   "outputs": [],
   "source": [
    "List2 = [1,2,3,4,5]"
   ]
  },
  {
   "cell_type": "markdown",
   "metadata": {},
   "source": [
    "# TUPLE"
   ]
  },
  {
   "cell_type": "code",
   "execution_count": 60,
   "metadata": {},
   "outputs": [],
   "source": [
    "thetuple = ('apple', 'Green Orange', 'cherry', 'grapes', 'pineapple')"
   ]
  },
  {
   "cell_type": "code",
   "execution_count": 64,
   "metadata": {},
   "outputs": [
    {
     "ename": "TypeError",
     "evalue": "'tuple' object does not support item assignment",
     "output_type": "error",
     "traceback": [
      "\u001b[1;31m---------------------------------------------------------------------------\u001b[0m",
      "\u001b[1;31mTypeError\u001b[0m                                 Traceback (most recent call last)",
      "\u001b[1;32m<ipython-input-64-600fefab9083>\u001b[0m in \u001b[0;36m<module>\u001b[1;34m\u001b[0m\n\u001b[1;32m----> 1\u001b[1;33m \u001b[0mthetuple\u001b[0m\u001b[1;33m[\u001b[0m\u001b[1;36m1\u001b[0m\u001b[1;33m]\u001b[0m \u001b[1;33m=\u001b[0m \u001b[1;34m'Orange'\u001b[0m\u001b[1;33m\u001b[0m\u001b[1;33m\u001b[0m\u001b[0m\n\u001b[0m",
      "\u001b[1;31mTypeError\u001b[0m: 'tuple' object does not support item assignment"
     ]
    }
   ],
   "source": [
    "thetuple[1] = 'Orange'"
   ]
  },
  {
   "cell_type": "markdown",
   "metadata": {},
   "source": [
    "# DICTINARIES"
   ]
  },
  {
   "cell_type": "code",
   "execution_count": 67,
   "metadata": {},
   "outputs": [
    {
     "name": "stdout",
     "output_type": "stream",
     "text": [
      "{'brand': 'Ford', 'model': 'Mustang', 'year': 1964}\n"
     ]
    }
   ],
   "source": [
    "thisdict = {\n",
    "  \"brand\": \"Ford\",\n",
    "  \"model\": \"Mustang\",\n",
    "  \"year\": 1964\n",
    "}\n",
    "print(thisdict)"
   ]
  },
  {
   "cell_type": "code",
   "execution_count": 69,
   "metadata": {},
   "outputs": [
    {
     "data": {
      "text/plain": [
       "'Mustang'"
      ]
     },
     "execution_count": 69,
     "metadata": {},
     "output_type": "execute_result"
    }
   ],
   "source": [
    "thisdict['model']"
   ]
  },
  {
   "cell_type": "markdown",
   "metadata": {},
   "source": [
    "Excercis"
   ]
  },
  {
   "cell_type": "code",
   "execution_count": 71,
   "metadata": {},
   "outputs": [
    {
     "name": "stdout",
     "output_type": "stream",
     "text": [
      "{'one': 1, 'two': 2, 'three': 3}\n"
     ]
    }
   ],
   "source": [
    "thisdict1 = {\n",
    "  \"one\": 1,\n",
    "  \"two\": 2,\n",
    "  \"three\": 3\n",
    "}\n",
    "print(thisdict1)"
   ]
  },
  {
   "cell_type": "code",
   "execution_count": 74,
   "metadata": {},
   "outputs": [
    {
     "data": {
      "text/plain": [
       "dict"
      ]
     },
     "execution_count": 74,
     "metadata": {},
     "output_type": "execute_result"
    }
   ],
   "source": [
    "type(thisdict1)"
   ]
  },
  {
   "cell_type": "code",
   "execution_count": 73,
   "metadata": {},
   "outputs": [
    {
     "data": {
      "text/plain": [
       "1"
      ]
     },
     "execution_count": 73,
     "metadata": {},
     "output_type": "execute_result"
    }
   ],
   "source": [
    "thisdict1['one']"
   ]
  },
  {
   "cell_type": "code",
   "execution_count": 75,
   "metadata": {},
   "outputs": [
    {
     "data": {
      "text/plain": [
       "3"
      ]
     },
     "execution_count": 75,
     "metadata": {},
     "output_type": "execute_result"
    }
   ],
   "source": [
    "len(thisdict1)"
   ]
  },
  {
   "cell_type": "code",
   "execution_count": 76,
   "metadata": {},
   "outputs": [],
   "source": [
    "del thisdict1[\"two\"]"
   ]
  },
  {
   "cell_type": "code",
   "execution_count": 77,
   "metadata": {},
   "outputs": [
    {
     "data": {
      "text/plain": [
       "{'one': 1, 'three': 3}"
      ]
     },
     "execution_count": 77,
     "metadata": {},
     "output_type": "execute_result"
    }
   ],
   "source": [
    "thisdict1"
   ]
  },
  {
   "cell_type": "code",
   "execution_count": 79,
   "metadata": {},
   "outputs": [
    {
     "name": "stdout",
     "output_type": "stream",
     "text": [
      "{'brand': 'Ford', 'model': 'Mustang', 'year': 1964}\n"
     ]
    }
   ],
   "source": [
    "thisdict = {\n",
    "  \"brand\": \"Ford\",\n",
    "  \"model\": \"Mustang\",\n",
    "  \"year\": 1964\n",
    "}\n",
    "#del thisdict\n",
    "print(thisdict) #this will cause an error because \"thisdict\" no longer exists."
   ]
  },
  {
   "cell_type": "code",
   "execution_count": 80,
   "metadata": {},
   "outputs": [
    {
     "name": "stdout",
     "output_type": "stream",
     "text": [
      "{}\n"
     ]
    }
   ],
   "source": [
    "thisdict = {\n",
    "  \"brand\": \"Ford\",\n",
    "  \"model\": \"Mustang\",\n",
    "  \"year\": 1964\n",
    "}\n",
    "thisdict.clear()\n",
    "print(thisdict)"
   ]
  },
  {
   "cell_type": "markdown",
   "metadata": {},
   "source": [
    "# COPY A DICTIONARY"
   ]
  },
  {
   "cell_type": "code",
   "execution_count": null,
   "metadata": {},
   "outputs": [],
   "source": [
    "thisdict = {\n",
    "  \"brand\": \"Ford\",\n",
    "  \"model\": \"Mustang\",\n",
    "  \"year\": 1964\n",
    "}\n",
    "mydict = dict(thisdict)\n",
    "print(mydict)"
   ]
  },
  {
   "cell_type": "code",
   "execution_count": 14,
   "metadata": {},
   "outputs": [
    {
     "name": "stdout",
     "output_type": "stream",
     "text": [
      "{'brand': 'Ford', 'model': 'Mustang', 'year': 1964}\n"
     ]
    }
   ],
   "source": [
    "thisdict = dict(brand=\"Ford\", model=\"Mustang\", year=1964)\n",
    "# note that keywords are not string literals\n",
    "# note the use of equals rather than colon for the assignment\n",
    "print(thisdict)"
   ]
  },
  {
   "cell_type": "markdown",
   "metadata": {},
   "source": [
    "# SET"
   ]
  },
  {
   "cell_type": "code",
   "execution_count": 91,
   "metadata": {},
   "outputs": [
    {
     "name": "stdout",
     "output_type": "stream",
     "text": [
      "{'apple', 'banana', 'cherry'}\n"
     ]
    }
   ],
   "source": [
    "thisset = {\"apple\", \"banana\", \"cherry\"}\n",
    "\n",
    "print(thisset)"
   ]
  },
  {
   "cell_type": "code",
   "execution_count": 92,
   "metadata": {},
   "outputs": [],
   "source": [
    "thisset = {\"apple\", \"banana\", \"cherry\"}\n",
    "\n",
    "thisset.update([\"orange\", \"mango\", \"grapes\"])"
   ]
  },
  {
   "cell_type": "code",
   "execution_count": 93,
   "metadata": {},
   "outputs": [
    {
     "data": {
      "text/plain": [
       "{'apple', 'banana', 'cherry', 'grapes', 'mango', 'orange'}"
      ]
     },
     "execution_count": 93,
     "metadata": {},
     "output_type": "execute_result"
    }
   ],
   "source": [
    "thisset"
   ]
  },
  {
   "cell_type": "code",
   "execution_count": 95,
   "metadata": {},
   "outputs": [
    {
     "name": "stdout",
     "output_type": "stream",
     "text": [
      "apple\n",
      "banana\n",
      "cherry\n"
     ]
    }
   ],
   "source": [
    "thisset = {\"apple\", \"banana\", \"cherry\"}\n",
    "\n",
    "for x in thisset:\n",
    "  print(x)\n",
    "#Once a set is created, you cannot change its items, but you can add new items."
   ]
  },
  {
   "cell_type": "markdown",
   "metadata": {},
   "source": [
    "# CONTAINER"
   ]
  },
  {
   "cell_type": "raw",
   "metadata": {},
   "source": [
    "Containers are any object that holds an arbitrary number of other objects. \n",
    "Generally, containers provide a way to access the contained objects and to iterate over them.\n",
    "Examples of  containers include tuple , list , set , dict ; these are the built-in containers"
   ]
  },
  {
   "cell_type": "markdown",
   "metadata": {},
   "source": [
    "# VARIABLES"
   ]
  },
  {
   "cell_type": "code",
   "execution_count": 1,
   "metadata": {},
   "outputs": [],
   "source": [
    "rent = 122000\n",
    "\n",
    "# rent is variable\n",
    "\n",
    "# 1220 value"
   ]
  },
  {
   "cell_type": "code",
   "execution_count": 2,
   "metadata": {},
   "outputs": [],
   "source": [
    "gas = 800\n",
    "\n",
    "grocorries = 1000"
   ]
  },
  {
   "cell_type": "code",
   "execution_count": 3,
   "metadata": {},
   "outputs": [],
   "source": [
    "Totalexpence = rent+gas+grocorries"
   ]
  },
  {
   "cell_type": "code",
   "execution_count": 11,
   "metadata": {},
   "outputs": [
    {
     "name": "stdout",
     "output_type": "stream",
     "text": [
      "Rent : 122000 gas: 800 grocorries: 1000\n"
     ]
    }
   ],
   "source": [
    "print('Rent :',122000,\n",
    "      \"gas:\",gas,\n",
    "      \"grocorries:\",grocorries)"
   ]
  },
  {
   "cell_type": "code",
   "execution_count": 13,
   "metadata": {},
   "outputs": [
    {
     "name": "stdout",
     "output_type": "stream",
     "text": [
      "Rent : 122000 \r\n",
      "gas: 800 \r\n",
      "grocorries: 1000\n"
     ]
    }
   ],
   "source": [
    "print('Rent :',122000,'\\r\\n'\n",
    "      \"gas:\",gas,'\\r\\n'\n",
    "      \"grocorries:\",grocorries)"
   ]
  },
  {
   "cell_type": "code",
   "execution_count": null,
   "metadata": {},
   "outputs": [],
   "source": [
    "# Value in valuable can change\n",
    "# Container is same"
   ]
  },
  {
   "cell_type": "markdown",
   "metadata": {},
   "source": [
    "# OPERATORS"
   ]
  },
  {
   "cell_type": "raw",
   "metadata": {},
   "source": [
    "#ARITHMETIC OPRATORS\n",
    "ADDITION\n",
    "SUBRACTION\n",
    "MULTIPLICATION\n",
    "DIVISION\n",
    "MODULO\n",
    "EXPONENTIAL"
   ]
  },
  {
   "cell_type": "code",
   "execution_count": 25,
   "metadata": {},
   "outputs": [],
   "source": [
    "a = 100\n",
    "b = 5"
   ]
  },
  {
   "cell_type": "code",
   "execution_count": 26,
   "metadata": {},
   "outputs": [
    {
     "data": {
      "text/plain": [
       "105"
      ]
     },
     "execution_count": 26,
     "metadata": {},
     "output_type": "execute_result"
    }
   ],
   "source": [
    "addres = a + b\n",
    "addres"
   ]
  },
  {
   "cell_type": "code",
   "execution_count": 27,
   "metadata": {},
   "outputs": [
    {
     "data": {
      "text/plain": [
       "95"
      ]
     },
     "execution_count": 27,
     "metadata": {},
     "output_type": "execute_result"
    }
   ],
   "source": [
    "subres = a-b\n",
    "subres"
   ]
  },
  {
   "cell_type": "code",
   "execution_count": 28,
   "metadata": {},
   "outputs": [
    {
     "data": {
      "text/plain": [
       "500"
      ]
     },
     "execution_count": 28,
     "metadata": {},
     "output_type": "execute_result"
    }
   ],
   "source": [
    "mulres = a * b\n",
    "mulres"
   ]
  },
  {
   "cell_type": "code",
   "execution_count": 29,
   "metadata": {},
   "outputs": [
    {
     "data": {
      "text/plain": [
       "20.0"
      ]
     },
     "execution_count": 29,
     "metadata": {},
     "output_type": "execute_result"
    }
   ],
   "source": [
    "divres = a / b\n",
    "divres"
   ]
  },
  {
   "cell_type": "code",
   "execution_count": 32,
   "metadata": {},
   "outputs": [
    {
     "data": {
      "text/plain": [
       "0"
      ]
     },
     "execution_count": 32,
     "metadata": {},
     "output_type": "execute_result"
    }
   ],
   "source": [
    "modulores = a % b\n",
    "modulores\n",
    "# Returns the remider"
   ]
  },
  {
   "cell_type": "code",
   "execution_count": 36,
   "metadata": {},
   "outputs": [
    {
     "data": {
      "text/plain": [
       "10000000000"
      ]
     },
     "execution_count": 36,
     "metadata": {},
     "output_type": "execute_result"
    }
   ],
   "source": [
    "\n",
    "expres = a **b\n",
    "expres"
   ]
  },
  {
   "cell_type": "code",
   "execution_count": 39,
   "metadata": {},
   "outputs": [
    {
     "data": {
      "text/plain": [
       "20"
      ]
     },
     "execution_count": 39,
     "metadata": {},
     "output_type": "execute_result"
    }
   ],
   "source": [
    "integerdivres = a // b\n",
    "integerdivres\n",
    "# Returns quotient"
   ]
  },
  {
   "cell_type": "markdown",
   "metadata": {},
   "source": [
    "# ASSIGNMENT OPERATOR"
   ]
  },
  {
   "cell_type": "code",
   "execution_count": 47,
   "metadata": {},
   "outputs": [],
   "source": [
    "a = 100\n",
    "b = 20"
   ]
  },
  {
   "cell_type": "code",
   "execution_count": 42,
   "metadata": {},
   "outputs": [
    {
     "data": {
      "text/plain": [
       "120"
      ]
     },
     "execution_count": 42,
     "metadata": {},
     "output_type": "execute_result"
    }
   ],
   "source": [
    "c = a +b\n",
    "c"
   ]
  },
  {
   "cell_type": "code",
   "execution_count": 48,
   "metadata": {},
   "outputs": [
    {
     "data": {
      "text/plain": [
       "120"
      ]
     },
     "execution_count": 48,
     "metadata": {},
     "output_type": "execute_result"
    }
   ],
   "source": [
    "b+=a\n",
    "b"
   ]
  },
  {
   "cell_type": "code",
   "execution_count": 54,
   "metadata": {},
   "outputs": [
    {
     "data": {
      "text/plain": [
       "-80"
      ]
     },
     "execution_count": 54,
     "metadata": {},
     "output_type": "execute_result"
    }
   ],
   "source": [
    "m1 = 100\n",
    "m2 = 20\n",
    "m2-=m1\n",
    "m2"
   ]
  },
  {
   "cell_type": "code",
   "execution_count": 55,
   "metadata": {},
   "outputs": [
    {
     "data": {
      "text/plain": [
       "0.2"
      ]
     },
     "execution_count": 55,
     "metadata": {},
     "output_type": "execute_result"
    }
   ],
   "source": [
    "n1 = 100\n",
    "n2 = 20\n",
    "n2/=n1\n",
    "n2\n",
    "\n",
    "# Only in divived "
   ]
  },
  {
   "cell_type": "code",
   "execution_count": 58,
   "metadata": {},
   "outputs": [
    {
     "data": {
      "text/plain": [
       "30"
      ]
     },
     "execution_count": 58,
     "metadata": {},
     "output_type": "execute_result"
    }
   ],
   "source": [
    "o1 = 10\n",
    "o2 = 3\n",
    "o2*=o1\n",
    "o2"
   ]
  },
  {
   "cell_type": "code",
   "execution_count": 66,
   "metadata": {},
   "outputs": [
    {
     "data": {
      "text/plain": [
       "64"
      ]
     },
     "execution_count": 66,
     "metadata": {},
     "output_type": "execute_result"
    }
   ],
   "source": [
    "p1 = 6\n",
    "p2 = 2\n",
    "p2**=p1\n",
    "p2"
   ]
  },
  {
   "cell_type": "markdown",
   "metadata": {},
   "source": [
    "# COMPARISON OPERATOR"
   ]
  },
  {
   "cell_type": "raw",
   "metadata": {},
   "source": [
    "> . If left is greater\n",
    "<\n",
    "==\n",
    "!=\n",
    ">= Greater or equal to\n",
    "<=\n",
    "\n",
    "# Comparison Operator will return Boolean Value"
   ]
  },
  {
   "cell_type": "code",
   "execution_count": 67,
   "metadata": {},
   "outputs": [],
   "source": [
    "a = 100\n",
    "b = 20"
   ]
  },
  {
   "cell_type": "code",
   "execution_count": 68,
   "metadata": {},
   "outputs": [
    {
     "data": {
      "text/plain": [
       "True"
      ]
     },
     "execution_count": 68,
     "metadata": {},
     "output_type": "execute_result"
    }
   ],
   "source": [
    "a > b"
   ]
  },
  {
   "cell_type": "code",
   "execution_count": 69,
   "metadata": {},
   "outputs": [
    {
     "data": {
      "text/plain": [
       "False"
      ]
     },
     "execution_count": 69,
     "metadata": {},
     "output_type": "execute_result"
    }
   ],
   "source": [
    "a < b"
   ]
  },
  {
   "cell_type": "code",
   "execution_count": 70,
   "metadata": {},
   "outputs": [
    {
     "data": {
      "text/plain": [
       "False"
      ]
     },
     "execution_count": 70,
     "metadata": {},
     "output_type": "execute_result"
    }
   ],
   "source": [
    "a == b"
   ]
  },
  {
   "cell_type": "code",
   "execution_count": 72,
   "metadata": {},
   "outputs": [
    {
     "data": {
      "text/plain": [
       "True"
      ]
     },
     "execution_count": 72,
     "metadata": {},
     "output_type": "execute_result"
    }
   ],
   "source": [
    "a != b"
   ]
  },
  {
   "cell_type": "code",
   "execution_count": 73,
   "metadata": {},
   "outputs": [
    {
     "data": {
      "text/plain": [
       "True"
      ]
     },
     "execution_count": 73,
     "metadata": {},
     "output_type": "execute_result"
    }
   ],
   "source": [
    "a >= b"
   ]
  },
  {
   "cell_type": "code",
   "execution_count": 74,
   "metadata": {},
   "outputs": [
    {
     "data": {
      "text/plain": [
       "False"
      ]
     },
     "execution_count": 74,
     "metadata": {},
     "output_type": "execute_result"
    }
   ],
   "source": [
    "a <= b"
   ]
  },
  {
   "cell_type": "markdown",
   "metadata": {},
   "source": [
    "# LOGICAL OPERATORS"
   ]
  },
  {
   "cell_type": "raw",
   "metadata": {},
   "source": [
    "AND OR NOT\n",
    " "
   ]
  },
  {
   "cell_type": "code",
   "execution_count": 76,
   "metadata": {},
   "outputs": [],
   "source": [
    "a = 100\n",
    "\n",
    "b = 20\n",
    "\n",
    "c = 10"
   ]
  },
  {
   "cell_type": "code",
   "execution_count": 78,
   "metadata": {},
   "outputs": [
    {
     "data": {
      "text/plain": [
       "True"
      ]
     },
     "execution_count": 78,
     "metadata": {},
     "output_type": "execute_result"
    }
   ],
   "source": [
    "(a > b) & (a > c)"
   ]
  },
  {
   "cell_type": "code",
   "execution_count": 81,
   "metadata": {},
   "outputs": [
    {
     "data": {
      "text/plain": [
       "True"
      ]
     },
     "execution_count": 81,
     "metadata": {},
     "output_type": "execute_result"
    }
   ],
   "source": [
    "(a > b) | (b < c)\n"
   ]
  },
  {
   "cell_type": "code",
   "execution_count": null,
   "metadata": {},
   "outputs": [],
   "source": []
  },
  {
   "cell_type": "code",
   "execution_count": null,
   "metadata": {},
   "outputs": [],
   "source": []
  },
  {
   "cell_type": "markdown",
   "metadata": {},
   "source": [
    "# Exception Handling"
   ]
  },
  {
   "cell_type": "code",
   "execution_count": 1,
   "metadata": {},
   "outputs": [],
   "source": [
    "num1 = 10"
   ]
  },
  {
   "cell_type": "code",
   "execution_count": 2,
   "metadata": {},
   "outputs": [],
   "source": [
    "num2 = 20\n",
    "num3 = 30"
   ]
  },
  {
   "cell_type": "code",
   "execution_count": 4,
   "metadata": {},
   "outputs": [
    {
     "data": {
      "text/plain": [
       "10"
      ]
     },
     "execution_count": 4,
     "metadata": {},
     "output_type": "execute_result"
    }
   ],
   "source": [
    "num1"
   ]
  },
  {
   "cell_type": "code",
   "execution_count": 22,
   "metadata": {},
   "outputs": [
    {
     "data": {
      "text/plain": [
       "10"
      ]
     },
     "execution_count": 22,
     "metadata": {},
     "output_type": "execute_result"
    }
   ],
   "source": [
    "num1"
   ]
  },
  {
   "cell_type": "code",
   "execution_count": 5,
   "metadata": {},
   "outputs": [
    {
     "ename": "ZeroDivisionError",
     "evalue": "division by zero",
     "output_type": "error",
     "traceback": [
      "\u001b[0;31m---------------------------------------------------------------------------\u001b[0m",
      "\u001b[0;31mZeroDivisionError\u001b[0m                         Traceback (most recent call last)",
      "\u001b[0;32m<ipython-input-5-bc757c3fda29>\u001b[0m in \u001b[0;36m<module>\u001b[0;34m\u001b[0m\n\u001b[0;32m----> 1\u001b[0;31m \u001b[0;36m1\u001b[0m \u001b[0;34m/\u001b[0m \u001b[0;36m0\u001b[0m\u001b[0;34m\u001b[0m\u001b[0;34m\u001b[0m\u001b[0m\n\u001b[0m",
      "\u001b[0;31mZeroDivisionError\u001b[0m: division by zero"
     ]
    }
   ],
   "source": [
    "1 / 0"
   ]
  },
  {
   "cell_type": "code",
   "execution_count": 6,
   "metadata": {},
   "outputs": [
    {
     "ename": "NameError",
     "evalue": "name 'spam' is not defined",
     "output_type": "error",
     "traceback": [
      "\u001b[0;31m---------------------------------------------------------------------------\u001b[0m",
      "\u001b[0;31mNameError\u001b[0m                                 Traceback (most recent call last)",
      "\u001b[0;32m<ipython-input-6-57e0f3ad7f55>\u001b[0m in \u001b[0;36m<module>\u001b[0;34m\u001b[0m\n\u001b[0;32m----> 1\u001b[0;31m \u001b[0;36m4\u001b[0m \u001b[0;34m+\u001b[0m \u001b[0mspam\u001b[0m \u001b[0;34m*\u001b[0m\u001b[0;36m3\u001b[0m\u001b[0;34m\u001b[0m\u001b[0;34m\u001b[0m\u001b[0m\n\u001b[0m",
      "\u001b[0;31mNameError\u001b[0m: name 'spam' is not defined"
     ]
    }
   ],
   "source": [
    "4 + spam *3"
   ]
  },
  {
   "cell_type": "code",
   "execution_count": 7,
   "metadata": {},
   "outputs": [
    {
     "ename": "NameError",
     "evalue": "name 'spam' is not defined",
     "output_type": "error",
     "traceback": [
      "\u001b[0;31m---------------------------------------------------------------------------\u001b[0m",
      "\u001b[0;31mNameError\u001b[0m                                 Traceback (most recent call last)",
      "\u001b[0;32m<ipython-input-7-7363ca3c450a>\u001b[0m in \u001b[0;36m<module>\u001b[0;34m\u001b[0m\n\u001b[0;32m----> 1\u001b[0;31m \u001b[0mspam\u001b[0m \u001b[0;34m+\u001b[0m\u001b[0;36m3\u001b[0m\u001b[0;34m\u001b[0m\u001b[0;34m\u001b[0m\u001b[0m\n\u001b[0m",
      "\u001b[0;31mNameError\u001b[0m: name 'spam' is not defined"
     ]
    }
   ],
   "source": [
    "spam +3"
   ]
  },
  {
   "cell_type": "code",
   "execution_count": 8,
   "metadata": {},
   "outputs": [],
   "source": [
    "spam =3"
   ]
  },
  {
   "cell_type": "code",
   "execution_count": 9,
   "metadata": {},
   "outputs": [
    {
     "data": {
      "text/plain": [
       "6"
      ]
     },
     "execution_count": 9,
     "metadata": {},
     "output_type": "execute_result"
    }
   ],
   "source": [
    "spam +3"
   ]
  },
  {
   "cell_type": "code",
   "execution_count": 28,
   "metadata": {},
   "outputs": [
    {
     "ename": "TypeError",
     "evalue": "can only concatenate str (not \"int\") to str",
     "output_type": "error",
     "traceback": [
      "\u001b[1;31m---------------------------------------------------------------------------\u001b[0m",
      "\u001b[1;31mTypeError\u001b[0m                                 Traceback (most recent call last)",
      "\u001b[1;32m<ipython-input-28-d2b23a1db757>\u001b[0m in \u001b[0;36m<module>\u001b[1;34m\u001b[0m\n\u001b[1;32m----> 1\u001b[1;33m \u001b[1;34m'2'\u001b[0m \u001b[1;33m+\u001b[0m \u001b[1;36m2\u001b[0m\u001b[1;33m\u001b[0m\u001b[1;33m\u001b[0m\u001b[0m\n\u001b[0m",
      "\u001b[1;31mTypeError\u001b[0m: can only concatenate str (not \"int\") to str"
     ]
    }
   ],
   "source": [
    "'2' + 2"
   ]
  },
  {
   "cell_type": "code",
   "execution_count": 29,
   "metadata": {},
   "outputs": [
    {
     "data": {
      "text/plain": [
       "str"
      ]
     },
     "execution_count": 29,
     "metadata": {},
     "output_type": "execute_result"
    }
   ],
   "source": [
    "type('2')"
   ]
  },
  {
   "cell_type": "code",
   "execution_count": 30,
   "metadata": {},
   "outputs": [
    {
     "data": {
      "text/plain": [
       "4"
      ]
     },
     "execution_count": 30,
     "metadata": {},
     "output_type": "execute_result"
    }
   ],
   "source": [
    "int('2')+2\n"
   ]
  },
  {
   "cell_type": "code",
   "execution_count": 31,
   "metadata": {},
   "outputs": [
    {
     "data": {
      "text/plain": [
       "'ab'"
      ]
     },
     "execution_count": 31,
     "metadata": {},
     "output_type": "execute_result"
    }
   ],
   "source": [
    "'a'+'b'"
   ]
  },
  {
   "cell_type": "code",
   "execution_count": 2,
   "metadata": {},
   "outputs": [],
   "source": [
    "num1 =10\n",
    "num2 =14\n",
    "num3 =12"
   ]
  },
  {
   "cell_type": "code",
   "execution_count": 7,
   "metadata": {},
   "outputs": [
    {
     "name": "stdout",
     "output_type": "stream",
     "text": [
      "the largest number is:  14\n"
     ]
    }
   ],
   "source": [
    "if (num1 >= num2) and (num1>= num3):\n",
    "    largest = num1\n",
    "elif (num2 >= num1) and (num2>=num3):\n",
    "    largest = num2\n",
    "else:\n",
    "    largest = num3\n",
    "print(\"the largest number is: \",largest)\n",
    "    \n",
    "    \n",
    "    \n",
    "    \n",
    "    "
   ]
  },
  {
   "cell_type": "code",
   "execution_count": 44,
   "metadata": {},
   "outputs": [],
   "source": [
    "import sys\n",
    "\n",
    "randomList = ['a',0,2]\n",
    "\n"
   ]
  },
  {
   "cell_type": "code",
   "execution_count": 46,
   "metadata": {},
   "outputs": [
    {
     "name": "stdout",
     "output_type": "stream",
     "text": [
      "The entry is a\n",
      "Oops! <class 'ValueError'> occured\n",
      "Next Entry\n",
      "\n",
      "The entry is 0\n",
      "Oops! <class 'ZeroDivisionError'> occured\n",
      "Next Entry\n",
      "\n",
      "The entry is 2\n",
      "The reciprocal of 2 is 0.5\n"
     ]
    }
   ],
   "source": [
    "for entry in randomList:\n",
    "    try:\n",
    "        print(\"The entry is\", entry)\n",
    "        r = 1/int(entry)\n",
    "        break\n",
    "    except:\n",
    "        print(\"Oops!\",sys.exc_info()[0],\"occured\")\n",
    "        print(\"Next Entry\")\n",
    "        print()\n",
    "print(\"The reciprocal of\",entry,\"is\",r)"
   ]
  },
  {
   "cell_type": "code",
   "execution_count": 53,
   "metadata": {},
   "outputs": [],
   "source": [
    "m1 = 10\n",
    "n1 = 0"
   ]
  },
  {
   "cell_type": "code",
   "execution_count": 51,
   "metadata": {},
   "outputs": [
    {
     "name": "stdout",
     "output_type": "stream",
     "text": [
      "1.0\n",
      "I got the result\n"
     ]
    }
   ],
   "source": [
    "try:\n",
    "    print(m1/n1)\n",
    "except Exception :\n",
    "    print(\"You cannot divide a number by zero\")\n",
    "print(\"I got the result\")"
   ]
  },
  {
   "cell_type": "code",
   "execution_count": 56,
   "metadata": {},
   "outputs": [
    {
     "name": "stdout",
     "output_type": "stream",
     "text": [
      "resourse open\n",
      "2.5\n",
      "I got the result\n"
     ]
    }
   ],
   "source": [
    "m4 = 5 \n",
    "n4 = 2\n",
    "try :\n",
    "    print(\"resourse open\")\n",
    "    print(m4/n4)\n",
    "except Exception as e:\n",
    "    print(\"you cannot divide by zero\",e)\n",
    "print(\"I got the result\")\n",
    "    "
   ]
  },
  {
   "cell_type": "code",
   "execution_count": 59,
   "metadata": {},
   "outputs": [
    {
     "name": "stdout",
     "output_type": "stream",
     "text": [
      "resourse open\n",
      "Yo canaot divide by zero division by zero\n",
      "resourse closed\n",
      "Sucess\n"
     ]
    }
   ],
   "source": [
    "m8 = 5\n",
    "n8 = 0\n",
    "\n",
    "try:\n",
    "    print(\"resourse open\")\n",
    "    print(m8/n8)\n",
    "except Exception as e:\n",
    "    print(\"Yo canaot divide by zero\", e)\n",
    "    print(\"resourse closed\")\n",
    "finally:\n",
    "    print(\"Sucess\")"
   ]
  },
  {
   "cell_type": "markdown",
   "metadata": {},
   "source": [
    "# IF THEN ELSE"
   ]
  },
  {
   "cell_type": "code",
   "execution_count": 88,
   "metadata": {},
   "outputs": [],
   "source": [
    "a = 2\n",
    "b = 20"
   ]
  },
  {
   "cell_type": "code",
   "execution_count": 89,
   "metadata": {},
   "outputs": [
    {
     "name": "stdout",
     "output_type": "stream",
     "text": [
      "b is greater\n"
     ]
    }
   ],
   "source": [
    "if a > b:\n",
    "    print('a is greater')\n",
    "else:\n",
    "    print('b is greater')"
   ]
  },
  {
   "cell_type": "code",
   "execution_count": 90,
   "metadata": {},
   "outputs": [],
   "source": [
    "a = 100\n",
    "b = 200\n",
    "c = 300"
   ]
  },
  {
   "cell_type": "code",
   "execution_count": 95,
   "metadata": {},
   "outputs": [
    {
     "name": "stdout",
     "output_type": "stream",
     "text": [
      "c is greater\n"
     ]
    }
   ],
   "source": [
    "if (a>=b) and (b>=c):\n",
    "    print('a is greater')\n",
    "elif (b>=a) and (b>=c):\n",
    "    print('b is greater')\n",
    "else:\n",
    "    print('c is greater')"
   ]
  },
  {
   "cell_type": "markdown",
   "metadata": {},
   "source": [
    "# FOR LOOP STATEMENT"
   ]
  },
  {
   "cell_type": "code",
   "execution_count": 99,
   "metadata": {},
   "outputs": [
    {
     "name": "stdout",
     "output_type": "stream",
     "text": [
      "apple\n",
      "banana\n",
      "cherry\n"
     ]
    }
   ],
   "source": [
    "fruits = [\"apple\", \"banana\", \"cherry\"]\n",
    "for x in fruits:\n",
    "  print(x)"
   ]
  },
  {
   "cell_type": "code",
   "execution_count": 102,
   "metadata": {},
   "outputs": [
    {
     "name": "stdout",
     "output_type": "stream",
     "text": [
      "The sum is 2\n",
      "The sum is 8\n",
      "The sum is 13\n",
      "The sum is 20\n",
      "The sum is 23\n",
      "The sum is 31\n",
      "The sum is 40\n",
      "The sum is 51\n"
     ]
    }
   ],
   "source": [
    "# Program to find the sum of all numbers stored in a list\n",
    "\n",
    "# List of numbers\n",
    "n = [2,6,5,7,3,8,9,11]\n",
    "\n",
    "# variable to store the sum\n",
    "sum = 0\n",
    "\n",
    "# iterate over the list\n",
    "for val in n:\n",
    "    sum = sum+val\n",
    "    print(\"The sum is\", sum)"
   ]
  },
  {
   "cell_type": "code",
   "execution_count": 103,
   "metadata": {},
   "outputs": [
    {
     "name": "stdout",
     "output_type": "stream",
     "text": [
      "The product is 2\n",
      "The product is 12\n",
      "The product is 60\n",
      "The product is 420\n",
      "The product is 1260\n",
      "The product is 10080\n",
      "The product is 90720\n",
      "The product is 997920\n"
     ]
    }
   ],
   "source": [
    "# Program to find the sum of all numbers stored in a list\n",
    "\n",
    "# List of numbers\n",
    "n = [2,6,5,7,3,8,9,11]\n",
    "\n",
    "# variable to store the product\n",
    "product = 1\n",
    "\n",
    "# iterate over the list\n",
    "for val in n:\n",
    "    product = product*val\n",
    "    print(\"The product is\", product)"
   ]
  },
  {
   "cell_type": "markdown",
   "metadata": {},
   "source": [
    "# FUNCTION "
   ]
  },
  {
   "cell_type": "raw",
   "metadata": {},
   "source": [
    "SYNTAX OF FUNCTIO"
   ]
  },
  {
   "cell_type": "code",
   "execution_count": 108,
   "metadata": {},
   "outputs": [],
   "source": [
    "def function_name(parameters):\n",
    "    \"\"\"docstring\"\"\"\n",
    "    statement(s)"
   ]
  },
  {
   "cell_type": "raw",
   "metadata": {},
   "source": [
    "def - start of function\n",
    "function_name - userdefined unique function name\n",
    "parameters - optional ( parameters through with we pass value to a functio)\n",
    ":End of the function header\n",
    "\"\"\"docstring\"\"\" - Optional what function does\n",
    "statement(s) python statement with same intendent level\n",
    "return - optional ( returns value from the function)"
   ]
  },
  {
   "cell_type": "code",
   "execution_count": 115,
   "metadata": {},
   "outputs": [],
   "source": [
    "def welcomemessage(name):\n",
    "    print('Welcome to Data Ananlytics Course',name)"
   ]
  },
  {
   "cell_type": "code",
   "execution_count": 116,
   "metadata": {},
   "outputs": [
    {
     "name": "stdout",
     "output_type": "stream",
     "text": [
      "Welcome to Data Ananlytics Course Steve\n"
     ]
    }
   ],
   "source": [
    "welcomemessage('Steve')"
   ]
  },
  {
   "cell_type": "code",
   "execution_count": 118,
   "metadata": {},
   "outputs": [],
   "source": [
    "def areasquare(a):\n",
    "    b = a*a\n",
    "    print(b)"
   ]
  },
  {
   "cell_type": "code",
   "execution_count": 119,
   "metadata": {},
   "outputs": [
    {
     "name": "stdout",
     "output_type": "stream",
     "text": [
      "16\n"
     ]
    }
   ],
   "source": [
    "areasquare(4)"
   ]
  },
  {
   "cell_type": "code",
   "execution_count": 120,
   "metadata": {},
   "outputs": [],
   "source": [
    "def myformula(sales,tax):\n",
    "    profit = sales-tax\n",
    "    print('Profit is',profit)"
   ]
  },
  {
   "cell_type": "code",
   "execution_count": 121,
   "metadata": {},
   "outputs": [
    {
     "name": "stdout",
     "output_type": "stream",
     "text": [
      "Profit is 8000\n"
     ]
    }
   ],
   "source": [
    "myformula(10000,2000)"
   ]
  },
  {
   "cell_type": "code",
   "execution_count": 143,
   "metadata": {},
   "outputs": [],
   "source": [
    "def circle1(r1):\n",
    "    area1 = r1*2\n",
    "    print(area1)"
   ]
  },
  {
   "cell_type": "code",
   "execution_count": 144,
   "metadata": {},
   "outputs": [
    {
     "name": "stdout",
     "output_type": "stream",
     "text": [
      "Area of cirecle is <function cricle at 0x0000020CD1E7E798>\n"
     ]
    }
   ],
   "source": [
    "cricle(5)"
   ]
  },
  {
   "cell_type": "code",
   "execution_count": 145,
   "metadata": {},
   "outputs": [],
   "source": [
    "def mysquare(lenth1,breadh1):\n",
    "    area1 = lenth1*breadh1\n",
    "    print(area1)"
   ]
  },
  {
   "cell_type": "code",
   "execution_count": 146,
   "metadata": {},
   "outputs": [
    {
     "name": "stdout",
     "output_type": "stream",
     "text": [
      "12\n"
     ]
    }
   ],
   "source": [
    "mysquare(4,3)"
   ]
  },
  {
   "cell_type": "code",
   "execution_count": 149,
   "metadata": {},
   "outputs": [],
   "source": [
    "def mycirc(rad1):\n",
    "    area2 = 3.14 * rad1*rad1\n",
    "    print(area2)"
   ]
  },
  {
   "cell_type": "code",
   "execution_count": 150,
   "metadata": {},
   "outputs": [
    {
     "name": "stdout",
     "output_type": "stream",
     "text": [
      "28.259999999999998\n"
     ]
    }
   ],
   "source": [
    "mycirc(3)"
   ]
  },
  {
   "cell_type": "markdown",
   "metadata": {},
   "source": [
    "# MODULE OR PACKAGE CONTAINS  BUILTIN FUNCTION"
   ]
  },
  {
   "cell_type": "raw",
   "metadata": {},
   "source": [
    "MATH is Builtin Module of Pa"
   ]
  },
  {
   "cell_type": "code",
   "execution_count": 219,
   "metadata": {},
   "outputs": [],
   "source": [
    "import math\n"
   ]
  },
  {
   "cell_type": "code",
   "execution_count": 220,
   "metadata": {},
   "outputs": [
    {
     "data": {
      "text/plain": [
       "2.0"
      ]
     },
     "execution_count": 220,
     "metadata": {},
     "output_type": "execute_result"
    }
   ],
   "source": [
    "math.sqrt(4)"
   ]
  },
  {
   "cell_type": "code",
   "execution_count": 221,
   "metadata": {},
   "outputs": [
    {
     "data": {
      "text/plain": [
       "4.605170185988092"
      ]
     },
     "execution_count": 221,
     "metadata": {},
     "output_type": "execute_result"
    }
   ],
   "source": [
    "x = 100\n",
    "math.log(x)"
   ]
  },
  {
   "cell_type": "code",
   "execution_count": 222,
   "metadata": {},
   "outputs": [
    {
     "data": {
      "text/plain": [
       "-0.5063656411097588"
      ]
     },
     "execution_count": 222,
     "metadata": {},
     "output_type": "execute_result"
    }
   ],
   "source": [
    "math.sin(x)"
   ]
  },
  {
   "cell_type": "code",
   "execution_count": 223,
   "metadata": {},
   "outputs": [],
   "source": [
    "x1 = 2"
   ]
  },
  {
   "cell_type": "code",
   "execution_count": 224,
   "metadata": {},
   "outputs": [
    {
     "data": {
      "text/plain": [
       "-0.4161468365471424"
      ]
     },
     "execution_count": 224,
     "metadata": {},
     "output_type": "execute_result"
    }
   ],
   "source": [
    "math.cos(x1)"
   ]
  },
  {
   "cell_type": "code",
   "execution_count": 225,
   "metadata": {},
   "outputs": [
    {
     "data": {
      "text/plain": [
       "-0.5872139151569291"
      ]
     },
     "execution_count": 225,
     "metadata": {},
     "output_type": "execute_result"
    }
   ],
   "source": [
    "math.tan(x)"
   ]
  },
  {
   "cell_type": "code",
   "execution_count": 226,
   "metadata": {},
   "outputs": [
    {
     "data": {
      "text/plain": [
       "3.141592653589793"
      ]
     },
     "execution_count": 226,
     "metadata": {},
     "output_type": "execute_result"
    }
   ],
   "source": [
    "math.pi"
   ]
  },
  {
   "cell_type": "code",
   "execution_count": 227,
   "metadata": {},
   "outputs": [],
   "source": [
    "area = math.pi * 2 *2"
   ]
  },
  {
   "cell_type": "code",
   "execution_count": 228,
   "metadata": {},
   "outputs": [],
   "source": [
    "import statistics"
   ]
  },
  {
   "cell_type": "code",
   "execution_count": 229,
   "metadata": {},
   "outputs": [],
   "source": [
    "data1 = [1,3,4,5,5,5,7,8,8,8,8,9,100,200,200] \n"
   ]
  },
  {
   "cell_type": "code",
   "execution_count": 230,
   "metadata": {},
   "outputs": [
    {
     "data": {
      "text/plain": [
       "38.06666666666667"
      ]
     },
     "execution_count": 230,
     "metadata": {},
     "output_type": "execute_result"
    }
   ],
   "source": [
    "statistics.mean(data1)\n",
    "#mean = m1,m2,m3/n\n"
   ]
  },
  {
   "cell_type": "code",
   "execution_count": 231,
   "metadata": {},
   "outputs": [
    {
     "data": {
      "text/plain": [
       "8"
      ]
     },
     "execution_count": 231,
     "metadata": {},
     "output_type": "execute_result"
    }
   ],
   "source": [
    "statistics.median(data1)\n",
    "#To find the Median, place the numbers in value order and find the middle."
   ]
  },
  {
   "cell_type": "code",
   "execution_count": 232,
   "metadata": {},
   "outputs": [
    {
     "data": {
      "text/plain": [
       "8"
      ]
     },
     "execution_count": 232,
     "metadata": {},
     "output_type": "execute_result"
    }
   ],
   "source": [
    "statistics.mode(data1)\n",
    "# Frequntly occured number"
   ]
  },
  {
   "cell_type": "code",
   "execution_count": 8,
   "metadata": {},
   "outputs": [],
   "source": [
    "import numpy as np\n",
    "x = np.arange(100)\n"
   ]
  },
  {
   "cell_type": "code",
   "execution_count": 239,
   "metadata": {},
   "outputs": [
    {
     "data": {
      "text/plain": [
       "array([ 0,  1,  2,  3,  4,  5,  6,  7,  8,  9, 10, 11, 12, 13, 14, 15, 16,\n",
       "       17, 18, 19, 20, 21, 22, 23, 24, 25, 26, 27, 28, 29, 30, 31, 32, 33,\n",
       "       34, 35, 36, 37, 38, 39, 40, 41, 42, 43, 44, 45, 46, 47, 48, 49, 50,\n",
       "       51, 52, 53, 54, 55, 56, 57, 58, 59, 60, 61, 62, 63, 64, 65, 66, 67,\n",
       "       68, 69, 70, 71, 72, 73, 74, 75, 76, 77, 78, 79, 80, 81, 82, 83, 84,\n",
       "       85, 86, 87, 88, 89, 90, 91, 92, 93, 94, 95, 96, 97, 98, 99])"
      ]
     },
     "execution_count": 239,
     "metadata": {},
     "output_type": "execute_result"
    }
   ],
   "source": [
    "x"
   ]
  },
  {
   "cell_type": "code",
   "execution_count": null,
   "metadata": {},
   "outputs": [],
   "source": []
  }
 ],
 "metadata": {
  "kernelspec": {
   "display_name": "Python 3",
   "language": "python",
   "name": "python3"
  },
  "language_info": {
   "codemirror_mode": {
    "name": "ipython",
    "version": 3
   },
   "file_extension": ".py",
   "mimetype": "text/x-python",
   "name": "python",
   "nbconvert_exporter": "python",
   "pygments_lexer": "ipython3",
   "version": "3.8.3"
  }
 },
 "nbformat": 4,
 "nbformat_minor": 2
}
